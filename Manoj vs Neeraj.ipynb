{
 "cells": [
  {
   "cell_type": "code",
   "execution_count": 1,
   "metadata": {},
   "outputs": [],
   "source": [
    "import tensorflow as tf\n",
    "from keras.preprocessing.image import ImageDataGenerator\n",
    "from keras.preprocessing import image"
   ]
  },
  {
   "cell_type": "code",
   "execution_count": 2,
   "metadata": {},
   "outputs": [],
   "source": [
    "train_datagen = ImageDataGenerator(rescale=1./255)"
   ]
  },
  {
   "cell_type": "code",
   "execution_count": 3,
   "metadata": {},
   "outputs": [
    {
     "name": "stdout",
     "output_type": "stream",
     "text": [
      "Found 413 images belonging to 2 classes.\n"
     ]
    }
   ],
   "source": [
    "train_data = train_datagen.flow_from_directory('DataSet/train',\n",
    "                                               target_size=(64,64),\n",
    "                                               class_mode='binary',\n",
    "                                               batch_size=32)"
   ]
  },
  {
   "cell_type": "code",
   "execution_count": 4,
   "metadata": {},
   "outputs": [],
   "source": [
    "test_datagen = ImageDataGenerator(rescale=1./255)"
   ]
  },
  {
   "cell_type": "code",
   "execution_count": 5,
   "metadata": {},
   "outputs": [
    {
     "name": "stdout",
     "output_type": "stream",
     "text": [
      "Found 168 images belonging to 2 classes.\n"
     ]
    }
   ],
   "source": [
    "test_data = test_datagen.flow_from_directory('DataSet/test',\n",
    "                                             target_size=(64,64),\n",
    "                                             batch_size=32,\n",
    "                                             class_mode='binary')"
   ]
  },
  {
   "cell_type": "code",
   "execution_count": 6,
   "metadata": {},
   "outputs": [],
   "source": [
    "model = tf.keras.Sequential()"
   ]
  },
  {
   "cell_type": "code",
   "execution_count": 7,
   "metadata": {},
   "outputs": [],
   "source": [
    "model.add(tf.keras.layers.Conv2D(filters = 32, kernel_size = 3, activation = 'relu', input_shape = [64,64,3]))"
   ]
  },
  {
   "cell_type": "code",
   "execution_count": 8,
   "metadata": {},
   "outputs": [],
   "source": [
    "model.add(tf.keras.layers.MaxPool2D(pool_size = 2, strides=2))"
   ]
  },
  {
   "cell_type": "code",
   "execution_count": 9,
   "metadata": {},
   "outputs": [],
   "source": [
    "model.add(tf.keras.layers.Conv2D(filters = 32, kernel_size = 3, activation = 'relu'))\n",
    "model.add(tf.keras.layers.MaxPool2D(pool_size = 2, strides=2))"
   ]
  },
  {
   "cell_type": "code",
   "execution_count": 10,
   "metadata": {},
   "outputs": [],
   "source": [
    "model.add(tf.keras.layers.Conv2D(filters = 32, kernel_size = 3, activation = 'relu'))\n",
    "model.add(tf.keras.layers.MaxPool2D(pool_size = 2, strides=2))"
   ]
  },
  {
   "cell_type": "code",
   "execution_count": 11,
   "metadata": {},
   "outputs": [],
   "source": [
    "model.add(tf.keras.layers.Flatten())"
   ]
  },
  {
   "cell_type": "code",
   "execution_count": 12,
   "metadata": {},
   "outputs": [],
   "source": [
    "model.add(tf.keras.layers.Dense(units=128, activation='relu'))"
   ]
  },
  {
   "cell_type": "code",
   "execution_count": 13,
   "metadata": {},
   "outputs": [],
   "source": [
    "model.add(tf.keras.layers.Dense(units=1, activation = 'sigmoid'))"
   ]
  },
  {
   "cell_type": "code",
   "execution_count": 14,
   "metadata": {},
   "outputs": [
    {
     "name": "stdout",
     "output_type": "stream",
     "text": [
      "Model: \"sequential\"\n",
      "_________________________________________________________________\n",
      "Layer (type)                 Output Shape              Param #   \n",
      "=================================================================\n",
      "conv2d (Conv2D)              (None, 62, 62, 32)        896       \n",
      "_________________________________________________________________\n",
      "max_pooling2d (MaxPooling2D) (None, 31, 31, 32)        0         \n",
      "_________________________________________________________________\n",
      "conv2d_1 (Conv2D)            (None, 29, 29, 32)        9248      \n",
      "_________________________________________________________________\n",
      "max_pooling2d_1 (MaxPooling2 (None, 14, 14, 32)        0         \n",
      "_________________________________________________________________\n",
      "conv2d_2 (Conv2D)            (None, 12, 12, 32)        9248      \n",
      "_________________________________________________________________\n",
      "max_pooling2d_2 (MaxPooling2 (None, 6, 6, 32)          0         \n",
      "_________________________________________________________________\n",
      "flatten (Flatten)            (None, 1152)              0         \n",
      "_________________________________________________________________\n",
      "dense (Dense)                (None, 128)               147584    \n",
      "_________________________________________________________________\n",
      "dense_1 (Dense)              (None, 1)                 129       \n",
      "=================================================================\n",
      "Total params: 167,105\n",
      "Trainable params: 167,105\n",
      "Non-trainable params: 0\n",
      "_________________________________________________________________\n"
     ]
    }
   ],
   "source": [
    "model.summary()"
   ]
  },
  {
   "cell_type": "code",
   "execution_count": 15,
   "metadata": {},
   "outputs": [],
   "source": [
    "model.compile(optimizer='adam', loss = 'binary_crossentropy', metrics=['accuracy'])"
   ]
  },
  {
   "cell_type": "code",
   "execution_count": 16,
   "metadata": {},
   "outputs": [
    {
     "name": "stdout",
     "output_type": "stream",
     "text": [
      "Epoch 1/10\n",
      "13/13 [==============================] - 7s 552ms/step - loss: 0.6033 - accuracy: 0.7324 - val_loss: 0.8018 - val_accuracy: 0.5833\n",
      "Epoch 2/10\n",
      "13/13 [==============================] - 6s 514ms/step - loss: 0.5903 - accuracy: 0.7131 - val_loss: 0.7447 - val_accuracy: 0.5833\n",
      "Epoch 3/10\n",
      "13/13 [==============================] - 6s 508ms/step - loss: 0.4791 - accuracy: 0.7487 - val_loss: 0.4388 - val_accuracy: 0.8214\n",
      "Epoch 4/10\n",
      "13/13 [==============================] - 6s 495ms/step - loss: 0.4136 - accuracy: 0.7747 - val_loss: 0.6419 - val_accuracy: 0.7024\n",
      "Epoch 5/10\n",
      "13/13 [==============================] - 6s 493ms/step - loss: 0.3403 - accuracy: 0.8493 - val_loss: 0.3207 - val_accuracy: 0.8750\n",
      "Epoch 6/10\n",
      "13/13 [==============================] - 6s 502ms/step - loss: 0.2496 - accuracy: 0.9010 - val_loss: 0.3709 - val_accuracy: 0.8393\n",
      "Epoch 7/10\n",
      "13/13 [==============================] - 6s 497ms/step - loss: 0.2159 - accuracy: 0.9281 - val_loss: 0.5606 - val_accuracy: 0.7381\n",
      "Epoch 8/10\n",
      "13/13 [==============================] - 6s 509ms/step - loss: 0.2902 - accuracy: 0.8740 - val_loss: 0.2224 - val_accuracy: 0.9048\n",
      "Epoch 9/10\n",
      "13/13 [==============================] - 6s 502ms/step - loss: 0.1720 - accuracy: 0.9459 - val_loss: 0.1873 - val_accuracy: 0.9167\n",
      "Epoch 10/10\n",
      "13/13 [==============================] - 6s 506ms/step - loss: 0.1075 - accuracy: 0.9656 - val_loss: 0.2523 - val_accuracy: 0.8988\n"
     ]
    }
   ],
   "source": [
    "J = model.fit(x = train_data,\n",
    "              validation_data= test_data,\n",
    "              epochs = 10)"
   ]
  },
  {
   "cell_type": "code",
   "execution_count": 17,
   "metadata": {},
   "outputs": [
    {
     "data": {
      "text/plain": [
       "{'loss': [0.5895335674285889,\n",
       "  0.5555312633514404,\n",
       "  0.4581577777862549,\n",
       "  0.3735302686691284,\n",
       "  0.3278810381889343,\n",
       "  0.2573558986186981,\n",
       "  0.20158620178699493,\n",
       "  0.24338850378990173,\n",
       "  0.16650862991809845,\n",
       "  0.13214148581027985],\n",
       " 'accuracy': [0.7336561679840088,\n",
       "  0.7336561679840088,\n",
       "  0.7602905631065369,\n",
       "  0.8135592937469482,\n",
       "  0.8450363278388977,\n",
       "  0.8934624791145325,\n",
       "  0.9273607730865479,\n",
       "  0.8934624791145325,\n",
       "  0.9370459914207458,\n",
       "  0.9491525292396545],\n",
       " 'val_loss': [0.8017706871032715,\n",
       "  0.7446638941764832,\n",
       "  0.43884581327438354,\n",
       "  0.6418671607971191,\n",
       "  0.32071131467819214,\n",
       "  0.3708513379096985,\n",
       "  0.5606476068496704,\n",
       "  0.22236685454845428,\n",
       "  0.1873101443052292,\n",
       "  0.2523389160633087],\n",
       " 'val_accuracy': [0.5833333134651184,\n",
       "  0.5833333134651184,\n",
       "  0.8214285969734192,\n",
       "  0.7023809552192688,\n",
       "  0.875,\n",
       "  0.8392857313156128,\n",
       "  0.738095223903656,\n",
       "  0.9047619104385376,\n",
       "  0.9166666865348816,\n",
       "  0.898809552192688]}"
      ]
     },
     "execution_count": 17,
     "metadata": {},
     "output_type": "execute_result"
    }
   ],
   "source": [
    "J.history"
   ]
  },
  {
   "cell_type": "code",
   "execution_count": 20,
   "metadata": {},
   "outputs": [
    {
     "data": {
      "image/png": "[encoded data removed]",
      "text/plain": [
       "<Figure size 432x288 with 1 Axes>"
      ]
     },
     "metadata": {
      "needs_background": "light"
     },
     "output_type": "display_data"
    }
   ],
   "source": [
    "import matplotlib.pyplot as plt\n",
    "plt.plot(J.history['loss'], label = 'Training Loss')\n",
    "plt.plot(J.history['val_loss'], label = 'Validation Loss')\n",
    "plt.legend()\n",
    "plt.show()"
   ]
  },
  {
   "cell_type": "code",
   "execution_count": 21,
   "metadata": {},
   "outputs": [
    {
     "data": {
      "image/png": "[encoded data removed]",
      "text/plain": [
       "<Figure size 432x288 with 1 Axes>"
      ]
     },
     "metadata": {
      "needs_background": "light"
     },
     "output_type": "display_data"
    }
   ],
   "source": [
    "plt.plot(J.history['accuracy'], label = 'Training Accuracy')\n",
    "plt.plot(J.history['val_accuracy'], label = 'Validation Accuracy')\n",
    "plt.legend()\n",
    "plt.show()"
   ]
  },
  {
   "cell_type": "code",
   "execution_count": 22,
   "metadata": {},
   "outputs": [
    {
     "data": {
      "text/plain": [
       "{'Manoj': 0, 'Neeraj': 1}"
      ]
     },
     "execution_count": 22,
     "metadata": {},
     "output_type": "execute_result"
    }
   ],
   "source": [
    "train_data.class_indices"
   ]
  },
  {
   "cell_type": "code",
   "execution_count": 43,
   "metadata": {},
   "outputs": [],
   "source": [
    "img = image.load_img('manoj.jpg', target_size=(64,64))"
   ]
  },
  {
   "cell_type": "code",
   "execution_count": 44,
   "metadata": {},
   "outputs": [],
   "source": [
    "img1 = image.img_to_array(img)"
   ]
  },
  {
   "cell_type": "code",
   "execution_count": 45,
   "metadata": {},
   "outputs": [],
   "source": [
    "import numpy as np\n",
    "data = np.expand_dims(img1 , 0)"
   ]
  },
  {
   "cell_type": "code",
   "execution_count": 46,
   "metadata": {
    "scrolled": false
   },
   "outputs": [],
   "source": [
    "o = model.predict(data)"
   ]
  },
  {
   "cell_type": "code",
   "execution_count": 47,
   "metadata": {},
   "outputs": [],
   "source": [
    "def who_is_it(output):\n",
    "    if output == 0:\n",
    "        print('Its None other than Manoj!')\n",
    "    else :\n",
    "        print('Its None Other than Neeraj!!')"
   ]
  },
  {
   "cell_type": "code",
   "execution_count": 48,
   "metadata": {},
   "outputs": [
    {
     "name": "stdout",
     "output_type": "stream",
     "text": [
      "Its None other than Manoj!\n"
     ]
    }
   ],
   "source": [
    "who_is_it(o)"
   ]
  },
  {
   "cell_type": "code",
   "execution_count": 49,
   "metadata": {},
   "outputs": [
    {
     "data": {
      "text/plain": [
       "<matplotlib.image.AxesImage at 0x7f7dc8ded2b0>"
      ]
     },
     "execution_count": 49,
     "metadata": {},
     "output_type": "execute_result"
    },
    {
     "data": {
      "image/png": "[encoded data removed]",
      "text/plain": [
       "<Figure size 432x288 with 1 Axes>"
      ]
     },
     "metadata": {
      "needs_background": "light"
     },
     "output_type": "display_data"
    }
   ],
   "source": [
    "plt.imshow(img)"
   ]
  },
  {
   "cell_type": "markdown",
   "metadata": {},
   "source": [
    "To note that this image was not in either of the train or test dataset!\n",
    "And our model have done its Job very Well"
   ]
  },
  {
   "cell_type": "code",
   "execution_count": null,
   "metadata": {},
   "outputs": [],
   "source": []
  }
 ],
 "metadata": {
  "kernelspec": {
   "display_name": "Python 3",
   "language": "python",
   "name": "python3"
  },
  "language_info": {
   "codemirror_mode": {
    "name": "ipython",
    "version": 3
   },
   "file_extension": ".py",
   "mimetype": "text/x-python",
   "name": "python",
   "nbconvert_exporter": "python",
   "pygments_lexer": "ipython3",
   "version": "3.8.5"
  }
 },
 "nbformat": 4,
 "nbformat_minor": 4
}
